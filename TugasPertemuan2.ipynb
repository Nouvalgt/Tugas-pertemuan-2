{
  "nbformat": 4,
  "nbformat_minor": 0,
  "metadata": {
    "colab": {
      "provenance": [],
      "authorship_tag": "ABX9TyP720goIR96ssMp+XnSMaoJ",
      "include_colab_link": true
    },
    "kernelspec": {
      "name": "python3",
      "display_name": "Python 3"
    },
    "language_info": {
      "name": "python"
    }
  },
  "cells": [
    {
      "cell_type": "markdown",
      "metadata": {
        "id": "view-in-github",
        "colab_type": "text"
      },
      "source": [
        "<a href=\"https://colab.research.google.com/github/Nouvalgt/Tugas-pertemuan-2/blob/main/TugasPertemuan2.ipynb\" target=\"_parent\"><img src=\"https://colab.research.google.com/assets/colab-badge.svg\" alt=\"Open In Colab\"/></a>"
      ]
    },
    {
      "cell_type": "code",
      "execution_count": 4,
      "metadata": {
        "colab": {
          "base_uri": "https://localhost:8080/"
        },
        "id": "TLG-TTVm5uSm",
        "outputId": "8daed707-f00f-43c5-eb94-aba917164fdd"
      },
      "outputs": [
        {
          "output_type": "stream",
          "name": "stdout",
          "text": [
            "Requirement already satisfied: numpy in /usr/local/lib/python3.10/dist-packages (1.25.2)\n"
          ]
        }
      ],
      "source": [
        "pip install numpy"
      ]
    },
    {
      "cell_type": "code",
      "source": [
        "import numpy as np\n"
      ],
      "metadata": {
        "id": "lGdeV3Ov59g2"
      },
      "execution_count": 5,
      "outputs": []
    },
    {
      "cell_type": "code",
      "source": [
        "angka = np.arange(11,36)\n",
        "matriks = angka.reshape(5,5)\n",
        "\n",
        "# Membuat Angka jadi Berwarna dengan warna-warna tertentu\n",
        "def warna_angka(angka):\n",
        "    if angka in [11, 13, 15, 21, 23, 25, 31, 33, 35] :\n",
        "      return \"\\033[32m{}\\033[0m\".format(angka) #Warna Hijau\n",
        "    elif angka in [12, 14] :\n",
        "      return \"\\033[31m{}\\033[0m\".format(angka) #warna Merah\n",
        "    elif angka in [16, 26] :\n",
        "      return \"\\033[34m{}\\033[0m\".format(angka) #Warna Biru\n",
        "    elif angka in [12, 17, 22, 22, 27, 32] :\n",
        "      return \"\\033[91m{}\\033[0m\".format(angka) #Warna Merah Muda\n",
        "    else :\n",
        "      return str(angka)\n",
        "\n",
        "# Mengubah dengan warna angka yang sudah di rubah\n",
        "matriks_warna = np.vectorize(warna_angka)(matriks)\n",
        "\n",
        "# Menampilkan matriks\n",
        "for baris in matriks_warna :\n",
        "  print(\" \".join(baris))"
      ],
      "metadata": {
        "colab": {
          "base_uri": "https://localhost:8080/"
        },
        "id": "m7n3v3Zq6aKk",
        "outputId": "da4e28b6-8470-44d3-eea5-aa5945ab75c2"
      },
      "execution_count": 6,
      "outputs": [
        {
          "output_type": "stream",
          "name": "stdout",
          "text": [
            "\u001b[32m11\u001b[0m \u001b[31m12\u001b[0m \u001b[32m13\u001b[0m \u001b[31m14\u001b[0m \u001b[32m15\u001b[0m\n",
            "\u001b[34m16\u001b[0m \u001b[91m17\u001b[0m 18 19 20\n",
            "\u001b[32m21\u001b[0m \u001b[91m22\u001b[0m \u001b[32m23\u001b[0m 24 \u001b[32m25\u001b[0m\n",
            "\u001b[34m26\u001b[0m \u001b[91m27\u001b[0m 28 29 30\n",
            "\u001b[32m31\u001b[0m \u001b[91m32\u001b[0m \u001b[32m33\u001b[0m 34 \u001b[32m35\u001b[0m\n"
          ]
        }
      ]
    }
  ]
}